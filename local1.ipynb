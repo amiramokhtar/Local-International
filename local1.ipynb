{
 "cells": [
  {
   "cell_type": "code",
   "execution_count": 1,
   "id": "79aea926-18a9-4741-b541-bdaa00112fb1",
   "metadata": {},
   "outputs": [
    {
     "name": "stdout",
     "output_type": "stream",
     "text": [
      "Requirement already satisfied: prophet in c:\\users\\icons\\appdata\\local\\programs\\python\\python313\\lib\\site-packages (1.1.6)\n",
      "Requirement already satisfied: cmdstanpy>=1.0.4 in c:\\users\\icons\\appdata\\local\\programs\\python\\python313\\lib\\site-packages (from prophet) (1.2.5)\n",
      "Requirement already satisfied: numpy>=1.15.4 in c:\\users\\icons\\appdata\\local\\programs\\python\\python313\\lib\\site-packages (from prophet) (2.1.2)\n",
      "Requirement already satisfied: matplotlib>=2.0.0 in c:\\users\\icons\\appdata\\local\\programs\\python\\python313\\lib\\site-packages (from prophet) (3.9.3)\n",
      "Requirement already satisfied: pandas>=1.0.4 in c:\\users\\icons\\appdata\\local\\programs\\python\\python313\\lib\\site-packages (from prophet) (2.2.3)\n",
      "Requirement already satisfied: holidays<1,>=0.25 in c:\\users\\icons\\appdata\\local\\programs\\python\\python313\\lib\\site-packages (from prophet) (0.70)\n",
      "Requirement already satisfied: tqdm>=4.36.1 in c:\\users\\icons\\appdata\\local\\programs\\python\\python313\\lib\\site-packages (from prophet) (4.67.1)\n",
      "Requirement already satisfied: importlib-resources in c:\\users\\icons\\appdata\\local\\programs\\python\\python313\\lib\\site-packages (from prophet) (6.5.2)\n",
      "Requirement already satisfied: stanio<2.0.0,>=0.4.0 in c:\\users\\icons\\appdata\\local\\programs\\python\\python313\\lib\\site-packages (from cmdstanpy>=1.0.4->prophet) (0.5.1)\n",
      "Requirement already satisfied: python-dateutil in c:\\users\\icons\\appdata\\local\\programs\\python\\python313\\lib\\site-packages (from holidays<1,>=0.25->prophet) (2.9.0.post0)\n",
      "Requirement already satisfied: contourpy>=1.0.1 in c:\\users\\icons\\appdata\\local\\programs\\python\\python313\\lib\\site-packages (from matplotlib>=2.0.0->prophet) (1.3.1)\n",
      "Requirement already satisfied: cycler>=0.10 in c:\\users\\icons\\appdata\\local\\programs\\python\\python313\\lib\\site-packages (from matplotlib>=2.0.0->prophet) (0.12.1)\n",
      "Requirement already satisfied: fonttools>=4.22.0 in c:\\users\\icons\\appdata\\local\\programs\\python\\python313\\lib\\site-packages (from matplotlib>=2.0.0->prophet) (4.55.2)\n",
      "Requirement already satisfied: kiwisolver>=1.3.1 in c:\\users\\icons\\appdata\\local\\programs\\python\\python313\\lib\\site-packages (from matplotlib>=2.0.0->prophet) (1.4.7)\n",
      "Requirement already satisfied: packaging>=20.0 in c:\\users\\icons\\appdata\\local\\programs\\python\\python313\\lib\\site-packages (from matplotlib>=2.0.0->prophet) (24.1)\n",
      "Requirement already satisfied: pillow>=8 in c:\\users\\icons\\appdata\\local\\programs\\python\\python313\\lib\\site-packages (from matplotlib>=2.0.0->prophet) (11.0.0)\n",
      "Requirement already satisfied: pyparsing>=2.3.1 in c:\\users\\icons\\appdata\\local\\programs\\python\\python313\\lib\\site-packages (from matplotlib>=2.0.0->prophet) (3.2.0)\n",
      "Requirement already satisfied: pytz>=2020.1 in c:\\users\\icons\\appdata\\local\\programs\\python\\python313\\lib\\site-packages (from pandas>=1.0.4->prophet) (2024.2)\n",
      "Requirement already satisfied: tzdata>=2022.7 in c:\\users\\icons\\appdata\\local\\programs\\python\\python313\\lib\\site-packages (from pandas>=1.0.4->prophet) (2024.2)\n",
      "Requirement already satisfied: colorama in c:\\users\\icons\\appdata\\local\\programs\\python\\python313\\lib\\site-packages (from tqdm>=4.36.1->prophet) (0.4.6)\n",
      "Requirement already satisfied: six>=1.5 in c:\\users\\icons\\appdata\\local\\programs\\python\\python313\\lib\\site-packages (from python-dateutil->holidays<1,>=0.25->prophet) (1.16.0)\n"
     ]
    },
    {
     "name": "stderr",
     "output_type": "stream",
     "text": [
      "\n",
      "[notice] A new release of pip is available: 24.3.1 -> 25.1.1\n",
      "[notice] To update, run: python.exe -m pip install --upgrade pip\n"
     ]
    }
   ],
   "source": [
    "! pip install prophet"
   ]
  },
  {
   "cell_type": "code",
   "execution_count": 1,
   "id": "553e3313-ef0f-41e4-b858-5830fc7e724e",
   "metadata": {},
   "outputs": [
    {
     "name": "stdout",
     "output_type": "stream",
     "text": [
      "['altair==5.5.0', 'anyio==4.6.2.post1', 'argon2-cffi-bindings==21.2.0', 'argon2-cffi==23.1.0', 'arrow==1.3.0', 'asttokens==2.4.1', 'async-lru==2.0.4', 'attrs==24.2.0', 'autocommand==2.2.2', 'babel==2.16.0', 'backports.tarfile==1.2.0', 'beautifulsoup4==4.12.3', 'bleach==6.1.0', 'blinker==1.9.0', 'branca==0.8.1', 'cachetools==5.5.0', 'category-encoders==2.8.1', 'certifi==2024.8.30', 'cffi==1.17.1', 'chardet==5.2.0', 'charset-normalizer==3.4.0', 'click==8.1.7', 'cmdstanpy==1.2.5', 'colorama==0.4.6', 'comm==0.2.2', 'contourpy==1.3.1', 'cycler==0.12.1', 'dash-core-components==2.0.0', 'dash-html-components==2.0.0', 'dash-table==5.0.0', 'dash==2.18.2', 'debugpy==1.8.7', 'decorator==5.1.1', 'defusedxml==0.7.1', 'et-xmlfile==2.0.0', 'executing==2.1.0', 'fastjsonschema==2.20.0', 'flask-cors==6.0.1', 'flask==3.0.3', 'folium==0.19.4', 'fonttools==4.55.2', 'fqdn==1.5.1', 'geographiclib==2.0', 'geopy==2.4.1', 'gitdb==4.0.11', 'gitpython==3.1.43', 'h11==0.14.0', 'holidays==0.70', 'httpcore==1.0.6', 'httpx==0.27.2', 'idna==3.10', 'imbalanced-learn==0.13.0', 'importlib-metadata==8.5.0', 'importlib-resources==6.5.2', 'inflect==7.3.1', 'ipykernel==6.29.5', 'ipython-genutils==0.2.0', 'ipython-sql==0.5.0', 'ipython==8.29.0', 'ipywidgets==8.1.5', 'isoduration==20.11.0', 'itsdangerous==2.2.0', 'jaraco.collections==5.1.0', 'jaraco.context==5.3.0', 'jaraco.functools==4.0.1', 'jaraco.text==3.12.1', 'jedi==0.19.1', 'jinja2==3.1.4', 'joblib==1.4.2', 'json5==0.9.25', 'jsonpointer==3.0.0', 'jsonschema-specifications==2024.10.1', 'jsonschema==4.23.0', 'jupyter-client==8.6.3', 'jupyter-console==6.6.3', 'jupyter-contrib-core==0.4.2', 'jupyter-contrib-nbextensions==0.7.0', 'jupyter-core==5.7.2', 'jupyter-events==0.10.0', 'jupyter-highlight-selected-word==0.2.0', 'jupyter-lsp==2.2.5', 'jupyter-nbextensions-configurator==0.6.4', 'jupyter-server-terminals==0.5.3', 'jupyter-server==2.14.2', 'jupyter==1.1.1', 'jupyterlab-pygments==0.3.0', 'jupyterlab-server==2.27.3', 'jupyterlab-widgets==3.0.13', 'jupyterlab==4.2.5', 'kiwisolver==1.4.7', 'lxml==5.3.0', 'markdown-it-py==3.0.0', 'markupsafe==3.0.2', 'matplotlib-inline==0.1.7', 'matplotlib==3.9.3', 'mdurl==0.1.2', 'mistune==3.0.2', 'more-itertools==10.3.0', 'narwhals==1.14.2', 'nbclient==0.10.0', 'nbconvert==7.16.4', 'nbformat==5.10.4', 'nest-asyncio==1.6.0', 'notebook-shim==0.2.4', 'notebook==7.2.2', 'numpy==2.1.2', 'openpyxl==3.1.5', 'outcome==1.3.0.post0', 'overrides==7.7.0', 'packaging==24.1', 'pandas==2.2.3', 'pandocfilters==1.5.1', 'parso==0.8.4', 'patsy==1.0.1', 'pickleshare==0.7.5', 'pillow==11.0.0', 'pip==24.3.1', 'platformdirs==4.3.6', 'plotly==5.24.1', 'prettytable==3.12.0', 'prometheus-client==0.21.0', 'prompt-toolkit==3.0.48', 'prophet==1.1.6', 'protobuf==5.29.0', 'psutil==6.1.0', 'pure-eval==0.2.3', 'pyarrow==18.1.0', 'pycparser==2.22', 'pydeck==0.9.1', 'pygments==2.18.0', 'pymysql==1.1.1', 'pyparsing==3.2.0', 'pysocks==1.7.1', 'python-dateutil==2.9.0.post0', 'python-dotenv==1.0.1', 'python-json-logger==2.0.7', 'pytz==2024.2', 'pywin32==308', 'pywinpty==2.0.14', 'pyyaml==6.0.2', 'pyzmq==26.2.0', 'referencing==0.35.1', 'requests==2.32.3', 'retrying==1.3.4', 'rfc3339-validator==0.1.4', 'rfc3986-validator==0.1.1', 'rich==13.9.4', 'rpds-py==0.20.0', 'scikit-learn==1.6.1', 'scipy==1.15.1', 'seaborn==0.13.2', 'selenium==4.27.1', 'send2trash==1.8.3', 'setuptools==75.2.0', 'six==1.16.0', 'sklearn-compat==0.1.3', 'smmap==5.0.1', 'sniffio==1.3.1', 'sortedcontainers==2.4.0', 'soupsieve==2.6', 'sqlalchemy==2.0.36', 'sqlparse==0.5.2', 'stack-data==0.6.3', 'stanio==0.5.1', 'statsmodels==0.14.4', 'streamlit==1.40.2', 'tabulate==0.9.0', 'tenacity==9.0.0', 'terminado==0.18.1', 'threadpoolctl==3.5.0', 'tinycss2==1.4.0', 'toml==0.10.2', 'tomli==2.0.1', 'tornado==6.4.1', 'tqdm==4.67.1', 'traitlets==5.14.3', 'trio-websocket==0.11.1', 'trio==0.27.0', 'typeguard==4.3.0', 'types-python-dateutil==2.9.0.20241003', 'typing-extensions==4.12.2', 'tzdata==2024.2', 'uri-template==1.3.0', 'urllib3==2.2.3', 'watchdog==6.0.0', 'wcwidth==0.2.13', 'webcolors==24.8.0', 'webdriver-manager==4.0.2', 'webencodings==0.5.1', 'websocket-client==1.8.0', 'werkzeug==3.0.6', 'wheel==0.43.0', 'widgetsnbextension==4.0.13', 'wsproto==1.2.0', 'xgboost==3.0.0', 'xyzservices==2025.1.0', 'zipp==3.21.0']\n"
     ]
    },
    {
     "name": "stderr",
     "output_type": "stream",
     "text": [
      "C:\\Users\\ICONS\\AppData\\Local\\Temp\\ipykernel_3436\\2772129146.py:1: DeprecationWarning: pkg_resources is deprecated as an API. See https://setuptools.pypa.io/en/latest/pkg_resources.html\n",
      "  import pkg_resources\n"
     ]
    }
   ],
   "source": [
    "   import pkg_resources\n",
    "   installed_packages = pkg_resources.working_set\n",
    "   installed_packages_list = sorted([\"%s==%s\" % (i.key, i.version) for i in installed_packages])\n",
    "   print(installed_packages_list)\n",
    "   "
   ]
  },
  {
   "cell_type": "code",
   "execution_count": 1,
   "id": "f3a25778-7ace-456f-9a2c-b95b2a15e80a",
   "metadata": {},
   "outputs": [
    {
     "name": "stdout",
     "output_type": "stream",
     "text": [
      "Overwriting local.py\n"
     ]
    }
   ],
   "source": [
    "%%writefile local.py\n",
    "import streamlit as st\n",
    "import pandas as pd\n",
    "import plotly.express as px\n",
    "from prophet import Prophet\n",
    "from sklearn.ensemble import RandomForestRegressor\n",
    "from sklearn.model_selection import train_test_split\n",
    "from sklearn.preprocessing import OneHotEncoder\n",
    "from sklearn.pipeline import Pipeline\n",
    "from sklearn.compose import ColumnTransformer\n",
    "from sklearn.metrics import mean_absolute_error\n",
    "\n",
    "# 1. App Title\n",
    "st.title(\"🏨 Hotel Performance Analysis – Local and International Markets\")\n",
    "\n",
    "# 2. Upload CSV\n",
    "uploaded_file = st.sidebar.file_uploader(\"📤 Upload Cleaned_Hotel_Booking.csv\", type=[\"csv\"])\n",
    "\n",
    "if uploaded_file is not None:\n",
    "    df = pd.read_csv(\"https://raw.githubusercontent.com/USERNAME/REPO/main/Cleaned_Hotel_Booking.csv\")\n",
    "\n",
    "\n",
    "    # 3. Data Cleaning and Preprocessing\n",
    "    df['Arrival date'] = pd.to_datetime(df['Arrival date'], errors='coerce')\n",
    "    df['Year'] = df['Arrival date'].dt.year\n",
    "    df['Month'] = df['Arrival date'].dt.month\n",
    "    df['YearMonth'] = df['Arrival date'].dt.to_period('M').astype(str)\n",
    "    df['Market_Type'] = df['Country'].apply(lambda x: 'Local' if str(x).strip().lower() == 'egypt' else 'International')\n",
    "\n",
    "    st.subheader(\"🧾 Data Sample\")\n",
    "    st.write(df.head())\n",
    "\n",
    "    # 4. Bookings 2018 (Bar Chart)\n",
    "    df_2018 = df[df['Year'] == 2018]\n",
    "    pivot_2018 = df_2018.groupby(['Month', 'Market_Type'])['No Of Rooms'].sum().reset_index()\n",
    "    fig1 = px.bar(pivot_2018, x='Month', y='No Of Rooms', color='Market_Type', barmode='group',\n",
    "                  title='📊 Local and International Bookings in 2018')\n",
    "    st.plotly_chart(fig1)\n",
    "\n",
    "    # 5. Occupancy Rate (Line Chart)\n",
    "    occupancy = df.groupby(['YearMonth', 'Market_Type'])['Occupancy Rate %'].mean().reset_index()\n",
    "    fig2 = px.line(occupancy, x='YearMonth', y='Occupancy Rate %', color='Market_Type',\n",
    "                   title='📈 Monthly Occupancy Rate by Market')\n",
    "    st.plotly_chart(fig2)\n",
    "\n",
    "    # 6. ADR & RevPAR (Table)\n",
    "    st.subheader(\"📌 Average ADR and RevPAR by Market\")\n",
    "    adr_revpar = df.groupby('Market_Type')[['ADR', 'RevPAR']].mean().reset_index()\n",
    "    st.dataframe(adr_revpar)\n",
    "\n",
    "    # 7. Monthly Revenue (Area Chart)\n",
    "    market_monthly = df.groupby(['YearMonth', 'Market_Type'])['total rate net'].sum().reset_index()\n",
    "    fig3 = px.area(market_monthly, x='YearMonth', y='total rate net', color='Market_Type',\n",
    "                   title='📊 Monthly Revenue – Local vs International',\n",
    "                   template='plotly_white', groupnorm='fraction')\n",
    "    st.plotly_chart(fig3)\n",
    "\n",
    "    # 8. Revenue Share (Pie Chart)\n",
    "    market_rev = df.groupby('Market_Type')['total rate net'].sum().reset_index()\n",
    "    fig4 = px.pie(market_rev, names='Market_Type', values='total rate net', hole=0.5,\n",
    "                  title='🎯 Market Share by Revenue')\n",
    "    st.plotly_chart(fig4)\n",
    "\n",
    "    # 9. Prophet Forecast – Local Bookings\n",
    "    st.subheader(\"📅 Forecasting Local Market Bookings\")\n",
    "    monthly_local = df[df['Market_Type'] == 'Local'].groupby('YearMonth')['No Of Rooms'].sum().reset_index()\n",
    "    monthly_local['ds'] = pd.to_datetime(monthly_local['YearMonth'])\n",
    "    monthly_local['y'] = monthly_local['No Of Rooms']\n",
    "    monthly_local = monthly_local[['ds', 'y']]\n",
    "\n",
    "    model = Prophet()\n",
    "    model.fit(monthly_local)\n",
    "    future = model.make_future_dataframe(periods=6, freq='ME')  # Use 'ME' to avoid FutureWarning\n",
    "    forecast = model.predict(future)\n",
    "\n",
    "    fig5 = px.line(forecast, x='ds', y='yhat', labels={'ds': 'Date', 'yhat': 'Expected Room Bookings'},\n",
    "                   title='🔮 Forecast: Local Market Bookings (Next 6 Months)')\n",
    "    st.plotly_chart(fig5)\n",
    "\n",
    "    # 10. ML Model – Predict ADR\n",
    "    st.subheader(\"🧠 Predict ADR (Average Daily Rate) using Machine Learning\")\n",
    "    ml_df = df.dropna(subset=['ADR'])\n",
    "\n",
    "    # Features and Target\n",
    "    X = ml_df[['No Of Rooms', 'Adult', 'Child', 'T.Pax', 'Room Type', 'Market_Type', 'arrival_day', 'arrival_month', 'booking_day_diff']]\n",
    "    y = ml_df['ADR']\n",
    "\n",
    "    cat_features = ['Room Type', 'Market_Type']\n",
    "    num_features = ['No Of Rooms', 'Adult', 'Child', 'T.Pax', 'arrival_day', 'arrival_month', 'booking_day_diff']\n",
    "\n",
    "    preprocessor = ColumnTransformer([\n",
    "        ('cat', OneHotEncoder(handle_unknown='ignore'), cat_features),\n",
    "        ('num', 'passthrough', num_features)\n",
    "    ])\n",
    "\n",
    "    pipeline = Pipeline([\n",
    "        ('preprocessor', preprocessor),\n",
    "        ('model', RandomForestRegressor(n_estimators=100, random_state=42))\n",
    "    ])\n",
    "\n",
    "    X_train, X_test, y_train, y_test = train_test_split(X, y, test_size=0.2, random_state=42)\n",
    "    pipeline.fit(X_train, y_train)\n",
    "    y_pred = pipeline.predict(X_test)\n",
    "    mae = mean_absolute_error(y_test, y_pred)\n",
    "    st.success(f\"✅ Model Trained – MAE: {round(mae, 2)}\")\n",
    "\n",
    "    # 11. User Input for Prediction\n",
    "    st.markdown(\"### 🔍 Try a Custom Prediction\")\n",
    "    user_input = {\n",
    "        'No Of Rooms': st.number_input('No Of Rooms', min_value=1, max_value=10, value=2),\n",
    "        'Adult': st.number_input('Adults', min_value=1, max_value=10, value=2),\n",
    "        'Child': st.number_input('Children', min_value=0, max_value=10, value=0),\n",
    "        'T.Pax': st.number_input('Total Pax', min_value=1, max_value=20, value=2),\n",
    "        'Room Type': st.selectbox('Room Type', options=df['Room Type'].dropna().unique()),\n",
    "        'Market_Type': st.selectbox('Market', options=['Local', 'International']),\n",
    "        'arrival_day': st.number_input('Arrival Day', min_value=1, max_value=31, value=15),\n",
    "        'arrival_month': st.number_input('Arrival Month', min_value=1, max_value=12, value=6),\n",
    "        'booking_day_diff': st.number_input('Booking Lead Time (days)', min_value=0, max_value=365, value=30)\n",
    "    }\n",
    "\n",
    "    user_df = pd.DataFrame([user_input])\n",
    "    prediction = pipeline.predict(user_df)[0]\n",
    "    st.success(f\"🔮 Predicted ADR: {round(prediction, 2)} EGP\")\n",
    "\n",
    "else:\n",
    "    st.info(\"📥 Please upload your cleaned hotel booking CSV file to begin.\")\n"
   ]
  },
  {
   "cell_type": "code",
   "execution_count": null,
   "id": "34a3577e-80f1-4b10-a56d-f6f0338414ed",
   "metadata": {},
   "outputs": [],
   "source": [
    "! streamlit run local.py"
   ]
  },
  {
   "cell_type": "code",
   "execution_count": null,
   "id": "64f73e66-2aae-438a-ad2c-3197aafc28fa",
   "metadata": {},
   "outputs": [],
   "source": []
  }
 ],
 "metadata": {
  "kernelspec": {
   "display_name": "Python 3 (ipykernel)",
   "language": "python",
   "name": "python3"
  },
  "language_info": {
   "codemirror_mode": {
    "name": "ipython",
    "version": 3
   },
   "file_extension": ".py",
   "mimetype": "text/x-python",
   "name": "python",
   "nbconvert_exporter": "python",
   "pygments_lexer": "ipython3",
   "version": "3.13.0"
  },
  "widgets": {
   "application/vnd.jupyter.widget-state+json": {
    "state": {},
    "version_major": 2,
    "version_minor": 0
   }
  }
 },
 "nbformat": 4,
 "nbformat_minor": 5
}
